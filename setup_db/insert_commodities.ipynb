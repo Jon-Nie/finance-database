{
 "cells": [
  {
   "cell_type": "code",
   "execution_count": 1,
   "metadata": {},
   "outputs": [],
   "source": [
    "from finance_database import Database\n",
    "import os\n",
    "import pandas as pd\n",
    "import numpy as np\n",
    "import re"
   ]
  },
  {
   "cell_type": "code",
   "execution_count": 2,
   "metadata": {},
   "outputs": [],
   "source": [
    "db = Database()\n",
    "con = db.connection\n",
    "cur = db.cursor"
   ]
  },
  {
   "cell_type": "code",
   "execution_count": 3,
   "metadata": {},
   "outputs": [
    {
     "data": {
      "text/plain": [
       "['Aluminum',\n",
       " 'Cocoa',\n",
       " 'Coffee',\n",
       " 'Copper',\n",
       " 'Corn',\n",
       " 'Cotton',\n",
       " 'Feeder Cattle',\n",
       " 'Gold',\n",
       " 'Heating Oil',\n",
       " 'Lead',\n",
       " 'Lean Hogs',\n",
       " 'Live Cattle',\n",
       " 'Milk',\n",
       " 'Natural Gas',\n",
       " 'Oats',\n",
       " 'Palladium',\n",
       " 'Platinum',\n",
       " 'Silver',\n",
       " 'Soybean',\n",
       " 'Soybean Meal',\n",
       " 'Soybean Oil',\n",
       " 'Sugar',\n",
       " 'WTI Crude Oil',\n",
       " 'Wheat',\n",
       " 'Zinc']"
      ]
     },
     "execution_count": 3,
     "metadata": {},
     "output_type": "execute_result"
    }
   ],
   "source": [
    "commodities = cur.execute(\"SELECT name FROM cme_commodities\").fetchall()\n",
    "commodities = [item[0] for item in commodities]\n",
    "commodities"
   ]
  },
  {
   "cell_type": "code",
   "execution_count": 4,
   "metadata": {},
   "outputs": [
    {
     "name": "stdout",
     "output_type": "stream",
     "text": [
      "Aluminum\n",
      "Cocoa\n",
      "Coffee\n",
      "Copper\n",
      "Corn\n",
      "Cotton\n",
      "Feeder Cattle\n",
      "Gold\n",
      "Heating Oil\n",
      "Lead\n",
      "Lean Hogs\n",
      "Live Cattle\n",
      "Milk\n",
      "Natural Gas\n",
      "Oats\n",
      "Palladium\n",
      "Platinum\n",
      "Silver\n",
      "Soybean\n",
      "Soybean Meal\n",
      "Soybean Oil\n",
      "Sugar\n",
      "WTI Crude Oil\n",
      "Wheat\n",
      "Zinc\n"
     ]
    }
   ],
   "source": [
    "for commodity in commodities:\n",
    "    print(commodity)\n",
    "    commodity_id = cur.execute(\"SELECT id FROM cme_commodities WHERE name = ?\", (commodity,)).fetchone()[0]\n",
    "    df = pd.read_excel(fr\"C:\\Users\\jonas\\Desktop\\Studium\\Master Finance\\Masterarbeit\\{commodity}.xlsx\", index_col= 0)\n",
    "    df.index = [pd.to_datetime(f\"{item.year}-{item.month}-01\") for item in df.index]\n",
    "    df = df.loc[:, [item for item in df.columns if \"#ERROR\" not in item]]\n",
    "\n",
    "    old_new_columns = {}\n",
    "    for column in df.columns:\n",
    "        date, series = re.findall(\"([A-Z]{3} [0-9]{4}) - (.+)\", column)[0]\n",
    "        if series == \"SETT. PRICE\":\n",
    "            old_new_columns[column] = date + \" price\"\n",
    "        elif series == \"VOLUME TRADED\":\n",
    "            old_new_columns[column] = date + \" volume\"\n",
    "        elif series == \"OPEN INTEREST\":\n",
    "            old_new_columns[column] = date + \" open_interest\"\n",
    "        else:\n",
    "            raise ValueError(f\"what column is this: {column}\")\n",
    "\n",
    "    df.rename(columns = old_new_columns, inplace=True)\n",
    "\n",
    "    maturity_dates = set([item.strip(\" price\"). strip(\" volume\").strip(\" open_interest\") for item in df.columns])\n",
    "\n",
    "    for maturity_date in maturity_dates:\n",
    "        for index in df.index:\n",
    "            if maturity_date + \" price\" not in df.columns:\n",
    "                continue\n",
    "            if (len(df.loc[index:, maturity_date + \" price\"].dropna()) == 0) or (np.isnan(df.loc[index, maturity_date + \" price\"])):\n",
    "                continue\n",
    "            ts = int(index.timestamp())\n",
    "            maturity_ts = int(pd.to_datetime(maturity_date.replace(\"2080\", \"1980\")).timestamp())\n",
    "            price = df.loc[index, maturity_date + \" price\"]\n",
    "            if maturity_date + \" volume\" in df.columns:\n",
    "                volume = df.loc[index, maturity_date + \" volume\"]\n",
    "            else:\n",
    "                volume = np.NaN\n",
    "            if maturity_date + \" open_interest\" in df.columns:\n",
    "                open_interest = df.loc[index, maturity_date + \" open_interest\"]\n",
    "            else:\n",
    "                open_interest = np.NaN\n",
    "            cur.execute(\"INSERT OR IGNORE INTO cme_commodity_prices VALUES (?, ?, ?, ?, ?, ?)\", (commodity_id, maturity_ts, ts, price, volume, open_interest))\n",
    "\n",
    "con.commit()"
   ]
  },
  {
   "cell_type": "code",
   "execution_count": 5,
   "metadata": {},
   "outputs": [
    {
     "name": "stdout",
     "output_type": "stream",
     "text": [
      "Aluminum\n",
      "Cocoa\n",
      "Coffee\n",
      "Copper\n",
      "Corn\n",
      "Cotton\n",
      "Feeder Cattle\n",
      "Gold\n",
      "Heating Oil\n",
      "Lead\n",
      "Lean Hogs\n",
      "Live Cattle\n",
      "Milk\n",
      "Natural Gas\n",
      "Oats\n",
      "Palladium\n",
      "Platinum\n",
      "Silver\n",
      "Soybean\n",
      "Soybean Meal\n",
      "Soybean Oil\n",
      "Sugar\n",
      "Wheat\n",
      "WTI Crude Oil\n",
      "Zinc\n"
     ]
    }
   ],
   "source": [
    "for commodity in os.listdir(\"D:\\Investing; Statistics; Economics\\Investing\\Commodities\\Data\"):\n",
    "    print(commodity)\n",
    "    commodity_id = cur.execute(\"SELECT id FROM cme_commodities WHERE name = ?\", (commodity,)).fetchone()[0]\n",
    "    for file in os.listdir(f\"D:\\Investing; Statistics; Economics\\Investing\\Commodities\\Data\\{commodity}\"):\n",
    "        date = file.strip(f\" {commodity} futures data.csv\")\n",
    "        ts = pd.to_datetime(date).timestamp()\n",
    "        df = pd.read_csv(f\"D:\\Investing; Statistics; Economics\\Investing\\Commodities\\Data\\{commodity}\\{file}\", index_col=0)\n",
    "        df.index = [item[:8] for item in df.index]\n",
    "        if (f\"{commodity} Price\" in df.columns) and (f\"{commodity} Volume\" in df.columns):\n",
    "            df[\"price\"] = df[f\"{commodity} Price\"]\n",
    "            df[\"volume\"] = df[f\"{commodity} Volume\"]\n",
    "        else:\n",
    "            df[\"price\"] = df[f\"Prior Settle\"]\n",
    "            df[\"volume\"] = df[f\"Volume\"]\n",
    "        \n",
    "        df.index = pd.to_datetime(df.index)\n",
    "        df.index = [int(date.timestamp()) for date in df.index]\n",
    "        df[\"maturity_ts\"] = df.index\n",
    "        df[\"commodity_id\"] = commodity_id\n",
    "        df[\"ts\"] = ts\n",
    "        df[\"open_interest\"] = np.NaN\n",
    "        df = df.loc[:, [\"commodity_id\", \"maturity_ts\", \"ts\", \"price\", \"volume\", \"open_interest\"]]\n",
    "        cur.executemany(\"INSERT OR IGNORE INTO cme_commodity_prices VALUES (?, ?, ?, ?, ?, ?)\", df.to_numpy())\n",
    "con.commit()"
   ]
  },
  {
   "cell_type": "code",
   "execution_count": 6,
   "metadata": {},
   "outputs": [],
   "source": [
    "con.close()"
   ]
  },
  {
   "cell_type": "code",
   "execution_count": null,
   "metadata": {},
   "outputs": [],
   "source": []
  }
 ],
 "metadata": {
  "kernelspec": {
   "display_name": "Python 3.9.10 64-bit",
   "language": "python",
   "name": "python3"
  },
  "language_info": {
   "codemirror_mode": {
    "name": "ipython",
    "version": 3
   },
   "file_extension": ".py",
   "mimetype": "text/x-python",
   "name": "python",
   "nbconvert_exporter": "python",
   "pygments_lexer": "ipython3",
   "version": "3.9.10"
  },
  "orig_nbformat": 4,
  "vscode": {
   "interpreter": {
    "hash": "53d8f185c1390ea0a8248ce0a5c0ba235224e0f874044819f6c065bb8a249464"
   }
  }
 },
 "nbformat": 4,
 "nbformat_minor": 2
}
